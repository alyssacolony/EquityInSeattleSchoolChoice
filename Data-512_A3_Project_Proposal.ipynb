{
 "cells": [
  {
   "cell_type": "markdown",
   "metadata": {},
   "source": [
    "# DATA 512 Assignment 4: Project Proposal \n",
    "Alyssa Goodrich  \n",
    "November 7, 2017"
   ]
  },
  {
   "cell_type": "markdown",
   "metadata": {},
   "source": [
    "## Introduction\n",
    "In the past year President Trump appointed Betsy DeVos as the new head of the Department of Education. Ms DeVos is a passionate proponent of school choice and is working to increase access to school choice throughout the country. Traditionally, students enrolled in public school attend the school that is determined by their address (e.g., most students automatically attend the school that is in their town or neighborhood). Under a school choice system, students are given the option to apply their publicly-funded education benefit to a number of schools, including a range of public schools, charter schools, and in some cases, private or parochial schools. Proponents of this system believe that students benefit from being able to choose the school that best meets their individual needs. Opponents of this system are concerned that it benefits only a certain group of students, while leaving out groups of marginalized students and results in an increased achievement gap (Achievement gap is the difference in academic achievement in certain socio-economic and racial groups.) \n",
    "\n",
    "For this project I am going to focus on the school choice system that exists in Seattle public elementary schools. \n",
    "\n",
    "## Background on Seattle's School Choice System\n",
    "The Seattle Public Schools school district offers families a choice of schools from among the public schools in the district (unlike some school choice systems, Seattle students cannot apply their public education benefit to private, parochial, or charter schools). There are two types of schools in the Seattle Public School district: Attendance Area Schools and Option Schools. There are 55 attendance area schools, and they are available first to students who live in the school's \"attendance area\" (all kids who live within the geographic region called an \"attendance area\" are guaranteed a spot in that school if they want it). If a school has additional space, then students from other attendance areas may also enter a lottery to attend. There are fifteen Option Schools that serve only students who opt in to attending. Access to Option Schools is determined by lottery. However, there is not an even playing field in the lottery. Spots in Option Schools are allotted first to students who have a sibling who attends the school, then to students who are in the geozone (a geographic area surrounding the school), and then to additional students by lottery number.  \n",
    "\n",
    "In recent years demand for Option Schools has increased so much that many and in some cases all of the spots in Option Schools have gone to students who live in the geozone or have siblings who attend. Anecdotally, I have observed that many of the Option Schools are located in areas with high real estate prices. This means that the Option Schools may have effectively become an option only for students whose families can afford to live in these expensive neighborhoods, many of whom already attend high performing schools.  These observations are the impetus for some of my research questions.  \n",
    "\n",
    "## Research Questions\n",
    "My research questions will focus on helping me answer two broader questions. \n",
    "1. Is there equal access to Option Schools? To address that I will explore three questions:  \n",
    "    a. What proportion of students admitted to Option Schools have sibling or Geozone preference? How does that proportion compare with students who don’t have preferential treatment?   \n",
    "    b. Is there a disparity in access to Option Schools for students from high performing schools versus low performing schools?  \n",
    "    c. What proportion of students in option schools are low income vs what proportion of students in attendance area schools are low income?\n",
    "2. Do Option Schools offer an advantage to students who attend them? To address that,  I will explore these two questions:   \n",
    "    a. How does performance compare in Option Schools versus Attendance Area Schools?  \n",
    "    b. How does the achievement gap compare in option schools versus non-Option Schools?  \n",
    "\n",
    "## Analytical Methods\n",
    "I will use basic statistical methods to complete this research. The method used for each research question is outlined below: \n",
    "- **1a** I will perform a two-tailed test to compare populatin proportions, comparing applicants who did have preference vs those who didn't for each school\n",
    "- **1b** I will first determine which schools are high performing by ranking schools in order of highest proportion of students who earn a 3 or 4 on state administered tests. I will then create four groups based on performance quartiles. I will calculate the proportion of students from each group who attend an Option school and then use a two tailed test to compare population proportions. \n",
    "- **1c** I will calculate the proportion of low income studemts at choice schools and compare it to the proportion of low income students at attendance area schools. I will use a two-tailed test to compare population proportion\n",
    "- **2a** I will calculate the proportion of students who achieve a 3 or 4 on state administered tests in option schools to the proportion who do in attendance area schools. Again, I will use a two tailed test to compare population proportions.\n",
    "- **2b** I will calculate the proportion of students who are on free and reduced lunch who acheive a 3 or 4 on state tests and subtract that from the proportion of non-free and reduced lunch kids who achieve a 3 or 4. I will then compare conduct a two tailed test whehter there is a differene between the population means. I am using students with free or reduced lunch as a proxy for students with lower economic resources. These students often suffer from lower academic achievement than other students. \n",
    "\n",
    "\n",
    "## Outcomes and deliverables anticipated\n",
    "I fear that this analysis may reveal that students from lower performing school have less opportunity to attend higher performing option schools. However I wouldn't go so far as to say that I anticipate that. This project is truly exploratory in that I am seeking to answer a question, rather than prove a hypothesis.\n",
    "\n",
    "The deliverable will be the results of my statistical tests along with a written narative explaining my analysis of the significance of my findings.\n",
    "\n",
    "## Data Sources\n",
    "There are two primary sources of data:\n",
    "1. Seattle Public School District Website: which provides information on \n",
    "    - Where students who live in a particular attendance area actuallly attend school: http://www.seattleschools.org/UserFiles/Servers/Server_543/File/District/Departments/Enrollment%20Planning/Reports/Annual%20Enrollment/2016-17/Section%204.pdf\n",
    "\n",
    "    - Admit rate for students based on tiebreaker status (sibling, geozone) http://www.seattleschools.org/UserFiles/Servers/Server_543/File/District/Departments/Enrollment%20Planning/Reports/Annual%20Enrollment/2016%20Open%20Enrollment%20School%20Choice%20Data.pdf\n",
    "    \n",
    "City of Seattle's data policy, found here: https://data.seattle.gov/stories/s/Data-Policy/6ukr-wvup/\n",
    "\n",
    "**Preparation required:** These reports are published as PDF and require manual processing to turn them into data files.\n",
    "\n",
    "I have a question about reproducability: Under this approach someone could easily reproduce using the data file that I will provide, but I am not able to support automatic generation of the data file due to manual work involved in the data entry process. \n",
    "\n",
    "2. Office of Washington State Super Intendant of Public Instruction (OSPI)\n",
    "    - How students achievment levels for various racial and economic groups, by school: http://reportcard.ospi.k12.wa.us/Reports/2017/2_03_AIM-EOC-MSP-SBA%20Assessments%20School%20(with%20suppression%20-%20new%20format).xlsx\n",
    "\n",
    "    - Demographic data by school:  http://reportcard.ospi.k12.wa.us/Reports/2017/1_2_Demographic%20Information%20by%20School.xlsx\n",
    "The data sources I am using are available based on the state of washington's open data policy\n",
    "\n",
    "State of Washington Open Data Policy:\n",
    "https://www.ocio.wa.gov/programs/open-data\n",
    "Open Data definitions\n",
    "https://www.ocio.wa.gov/programs/open-data/guidance-open-data-definitions\n",
    "\n",
    "## What are some of the human-centered aspects of this project? \n",
    "- The samples of students who attend Option Schools are biased. Students who attend those schools tend to have greater family engagement than some students who don't. This is because attending an option school requires parental engagement. Option schools also demonstrate a commitment to education because in some cases teh option school is much less conveniently located than the attendance areas school. \n",
    "- Data is not available for racial groups with fewer than 10 students in a school/grade cohort. This is necessary to maintain privacy of those students. A cost of that choice is that it is difficult to fully analyze performance and access trends for those groups.- I am using free and reduced lunch as a proxy for all marginalized groups, which is a gross over simplification, but I believe it is my best option in these circumstances.\n",
    "- It may be difficult to make this project fully reproducable from the source files because of the format of some of the source information. I intend to address this by providing access to the source PDF files  (for full transparency of information) but also providing the data files that I have created to enable others to reproduce the research using those files.\n",
    "- This research may show that lower-income students, on average, have lower achievement than their non-low-income peers. To the extent this is true on average, we have of course proven nothing about any individual student. I am sensitive about the fact that the research findings in aggregate could contribute to some people expecting that individual low-income students will have lower acheivement, resulting in harm to those students.\n",
    "\n",
    "\n",
    "\n",
    "## Limitations\n",
    "One major limiation of this analysis is the biased samples that are present in the data. If a student is going to a choice school, then the student has engaged parents. Since parent engagement may be linked to student achievement, the results of the study will be biased. A follow up to this study could be to conduct research comparing students who attended an option school with students who applied to an option school and did not get in. This could help us assess whether achievement levels and achievement gap differentials were due to the option school, or due some other factor that is correlated with applying for an option school. \n",
    "\n"
   ]
  },
  {
   "cell_type": "code",
   "execution_count": null,
   "metadata": {
    "collapsed": true
   },
   "outputs": [],
   "source": []
  }
 ],
 "metadata": {
  "anaconda-cloud": {},
  "kernelspec": {
   "display_name": "Python [Root]",
   "language": "python",
   "name": "Python [Root]"
  },
  "language_info": {
   "codemirror_mode": {
    "name": "ipython",
    "version": 3
   },
   "file_extension": ".py",
   "mimetype": "text/x-python",
   "name": "python",
   "nbconvert_exporter": "python",
   "pygments_lexer": "ipython3",
   "version": "3.5.2"
  }
 },
 "nbformat": 4,
 "nbformat_minor": 0
}
